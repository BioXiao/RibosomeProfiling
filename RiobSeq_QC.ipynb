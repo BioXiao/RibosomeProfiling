{
 "cells": [
  {
   "cell_type": "markdown",
   "metadata": {
    "collapsed": true
   },
   "source": [
    "### Compare new Rioseq with previous Riboseq\n",
    "\n",
    "#### 1. P site offset comparison\n",
    "Ribosome usually protects around 30 nts of mRNA sequence, P-site reflects which AA that ribosome is translating. When getting the position of mapped reads, usually we use 5' end or sometime 3'end of the read to indicate where does the read maps to the genome. In Riboseq, the 5'/3' end represents the boundary of the ribosome, but the p site is in the middle of ribosome. Therefore, to know which position in the mapping read corresponds to the ribosome's P site, we need to calculate how far is the 5'/3' end to the P site, which is called P-site offset.\n",
    "\n",
    "First of all, let's look at the mapping length distribution. From the figure we can see that the new method has longer read length than old ones. This is mainly because the new method uses MNase which doesn't degrade nucleotides as neatly as RNase."
   ]
  },
  {
   "cell_type": "code",
   "execution_count": 72,
   "metadata": {
    "collapsed": true,
    "hideCode": false
   },
   "outputs": [],
   "source": [
    "import pandas as pd\n",
    "import matplotlib.pyplot as plt\n",
    "plt.style.use('ggplot')\n",
    "%matplotlib inline "
   ]
  },
  {
   "cell_type": "code",
   "execution_count": 3,
   "metadata": {
    "hideCode": true,
    "hidePrompt": true
   },
   "outputs": [
    {
     "data": {
      "image/png": "[encoded data removed]",
      "text/plain": [
       "<matplotlib.figure.Figure at 0x7f1fc4d88410>"
      ]
     },
     "metadata": {},
     "output_type": "display_data"
    }
   ],
   "source": [
    "# read in data\n",
    "len_range = range(22,51)\n",
    "new_cov_fn = '/data/shangzhong/RibosomeProfiling/ritux/02_cov/tri_cov.txt'\n",
    "old_cov_fn = '/data/shangzhong/RibosomeProfiling/ritux/previous_data/02_cov/s06_cov.txt'\n",
    "new_df = pd.read_csv(new_cov_fn,sep='\\t',header=0,usecols=[0,5],names=['count','len'])\n",
    "new_len_count = new_df.groupby('len').sum()\n",
    "old_df = pd.read_csv(old_cov_fn,sep='\\t',header=0,usecols=[0,5],names=['count','len'])\n",
    "old_len_count = old_df.groupby('len').sum()\n",
    "# get count at each length\n",
    "new_c = []\n",
    "old_c = []\n",
    "for l in len_range:\n",
    "    try:\n",
    "        new_c.append(new_len_count.loc[l,'count'])\n",
    "    except:\n",
    "        new_c.append(0)\n",
    "    try:\n",
    "        old_c.append(old_len_count.loc[l,'count'])\n",
    "    except:\n",
    "        old_c.append(0)\n",
    "new_total = sum(new_c)\n",
    "old_total = sum(old_c)\n",
    "new_cov = [float(p)/new_total for p in new_c]\n",
    "old_cov = [float(p)/old_total for p in old_c]\n",
    "# plot data\n",
    "fig = plt.subplots(figsize=(8,4))\n",
    "_ = plt.plot(len_range,new_cov,label='new')\n",
    "_ = plt.plot(len_range,old_cov,label='old')\n",
    "_ = plt.xticks(len_range)\n",
    "_ = plt.legend()\n",
    "_ = plt.title('mapping length distribution')\n",
    "_ = plt.xlabel('length')\n",
    "_ = plt.ylabel('portion')"
   ]
  },
  {
   "cell_type": "markdown",
   "metadata": {},
   "source": [
    "Then we can check the P site offset for each mapping length. \n",
    "1) For previous Riboseq that uses RNase, using 5'end to calculate the offset is better. The following figures are coverage 50 bps upstream and downstream of TSS for each mapping length. 0 position represents the first base pair of the start codon. Here I summed read counts for all the genes in the correspondign position."
   ]
  },
  {
   "cell_type": "markdown",
   "metadata": {},
   "source": [
    "![title](com_old_new_ribo/old_tss5_batch0.png)\n",
    "![title](com_old_new_ribo/old_tss5_batch1.png)\n",
    "For most of the mapping lengths, we can see a very high peak upstream of position 0. The distance between the peak and 0 indicates the distance between 5'end of ribosome and start of P site. The distance are mainly 12,13 in the old data. If we overlay all the lengths into one figure, it's even more clear and at the same time we see the 3 nt periodic coverage.\n",
    "![title](com_old_new_ribo/old_tss5.png)"
   ]
  },
  {
   "cell_type": "markdown",
   "metadata": {},
   "source": [
    "2) The new riboseq data uses MNase. After talking with some people who applied MNase to bacteria, they suggested to use 3'end of the reads to get the position because it performs better than 5'end. From the previous length distribution file, we can see that the new datasets has longer mapping length, so we consider longer reads for the new datasets. The following are coverage around TSS in new ribo data.\n",
    "![title](com_old_new_ribo/tss3_batch0.png)\n",
    "![title](com_old_new_ribo/tss3_batch1.png)\n",
    "![title](com_old_new_ribo/tss3_batch2.png)\n",
    "From the above figure we can see that in the downstream of TSS, many have two peaks. Based on the fact that the offset should be short than read length, we choose the closer one. So for lengths smaller than 37, the offset is 14, for lengths larger than 37 the offset is 27. If we overlay all the lengths into one figure, we see weak 3 nt periodic coverage.\n",
    "![title](com_old_new_ribo/tss3.png)"
   ]
  },
  {
   "cell_type": "markdown",
   "metadata": {
    "collapsed": true
   },
   "source": [
    "#### 2. Coverage comparison in cds, utr and other regions.\n",
    "The more reads mapping to the coding regions, the better the protocal is. So next we comapre the how many percentage of reads mapping to CDS, 5'UTR, 3'UTR and other parts of the genome."
   ]
  },
  {
   "cell_type": "code",
   "execution_count": 273,
   "metadata": {
    "collapsed": true,
    "hideCode": false,
    "hidePrompt": false
   },
   "outputs": [],
   "source": [
    "# get count percentage old data\n",
    "old_cov_fn = '/data/shangzhong/RibosomeProfiling/ritux/previous_data/02_cov/s06_cov.txt'\n",
    "old_cov_df = pd.read_csv(old_cov_fn,sep='\\t',usecols=[0],names=['count'])\n",
    "old_total = old_cov_df['count'].sum()\n",
    "old_fn = '/data/shangzhong/RibosomeProfiling/ritux/previous_data/05_cds_utr_count/s06_cov.txt'\n",
    "old_df = pd.read_csv(old_fn,sep='\\t',header=0,index_col=0)\n",
    "old_count = old_df.sum().div(old_total)\n",
    "old_count['other'] = 1 - sum(old_count)\n",
    "# get count percentage for new data\n",
    "new_cov_fn = '/data/shangzhong/RibosomeProfiling/ritux/02_cov/tri_cov.txt'\n",
    "new_cov_df = pd.read_csv(new_cov_fn,sep='\\t',usecols=[0],names=['count'])\n",
    "new_total = new_cov_df['count'].sum()\n",
    "new_fn = '/data/shangzhong/RibosomeProfiling/ritux/05_cds_utr_count/tri_cov.txt'\n",
    "new_df = pd.read_csv(new_fn,sep='\\t',header=0,index_col=0)\n",
    "new_count = new_df.sum().div(new_total)\n",
    "new_gene_count_fn = '/data/shangzhong/RibosomeProfiling/ritux/06_gene_intron_count/tri_cov.txt'\n",
    "new_gene_count_df= pd.read_csv(new_gene_count_fn,sep='\\t',header=0,index_col=0)\n",
    "new_gene_total = new_gene_count_df.sum().div(new_total)\n",
    "new_count = new_count.append(new_gene_total)\n",
    "new_count['other'] = 1 - sum(new_count)\n",
    "# plot\n",
    "df = pd.DataFrame()\n",
    "df['old'] = old_count\n",
    "df['new'] = new_count\n",
    "df.index = ['cds','utr5','utr3','other']"
   ]
  },
  {
   "cell_type": "code",
   "execution_count": 277,
   "metadata": {},
   "outputs": [
    {
     "data": {
      "text/plain": [
       "cds_count     0.504252\n",
       "utr5_count    0.063515\n",
       "utr3_count    0.006874\n",
       "other         0.425359\n",
       "dtype: float64"
      ]
     },
     "execution_count": 277,
     "metadata": {},
     "output_type": "execute_result"
    }
   ],
   "source": [
    "new_count\n",
    "old_count"
   ]
  },
  {
   "cell_type": "code",
   "execution_count": 80,
   "metadata": {
    "hideCode": false,
    "scrolled": true
   },
   "outputs": [
    {
     "data": {
      "image/png": "[encoded data removed]",
      "text/plain": [
       "<matplotlib.figure.Figure at 0x7f8f47aa35d0>"
      ]
     },
     "metadata": {},
     "output_type": "display_data"
    }
   ],
   "source": [
    "ax = df.plot(kind='bar',title='percentage of reads in each feature')\n",
    "_ = ax.set_ylabel('portion')"
   ]
  },
  {
   "cell_type": "markdown",
   "metadata": {},
   "source": [
    "The above figure shows that the new data only has very little portion of reads mapping to the coding regions compared to the old data. The old data has half reads mapping to the CDS, it's mainly because I only filtered reads mapping to rRNA, but it also has many reads mapping to tRNA. The table below shows the percentage of reads mapping to each feature.\n",
    "\n",
    "This is just rough calculation, becuase I used the htseqcount to get the data, not considering the offset. But the scale is in the right order.\n",
    "| feature(%) | new | old |\n",
    "|------------|-----|-----|\n",
    "| CDS        | 3.7 | 50  |\n",
    "| UTR        | 0.8 | 7   |\n",
    "| intron     | 11  | 0.6 |\n",
    "| intergenic | 26.5| 37  |\n",
    "| trna       | 58  | 12  |\n",
    "\n",
    "** In the new datasets, the tRNA occupies about 58% of the total reads,which is much higher than the old data (12%). This means the new protocol failed to remove most of the trna. **\n"
   ]
  },
  {
   "cell_type": "code",
   "execution_count": 2,
   "metadata": {
    "collapsed": true
   },
   "outputs": [],
   "source": [
    "%reload_ext autoreload\n",
    "%autoreload 2"
   ]
  }
 ],
 "metadata": {
  "celltoolbar": "Hide code",
  "kernelspec": {
   "display_name": "Python 2",
   "language": "python",
   "name": "python2"
  },
  "language_info": {
   "codemirror_mode": {
    "name": "ipython",
    "version": 2
   },
   "file_extension": ".py",
   "mimetype": "text/x-python",
   "name": "python",
   "nbconvert_exporter": "python",
   "pygments_lexer": "ipython2",
   "version": "2.7.12"
  }
 },
 "nbformat": 4,
 "nbformat_minor": 2
}
